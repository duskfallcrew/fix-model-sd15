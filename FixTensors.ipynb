{
 "cells": [
  {
   "cell_type": "markdown",
   "id": "7aff75ad-a27d-453c-9786-f90486aa225f",
   "metadata": {},
   "source": [
    "## ♻ **Fix Before Converting**\n",
    "-----------------"
   ]
  },
  {
   "cell_type": "code",
   "execution_count": 12,
   "id": "15d1510f-efd3-4a8f-950d-77db9512f2c1",
   "metadata": {},
   "outputs": [
    {
     "name": "stdout",
     "output_type": "stream",
     "text": [
      "Collecting ipyfilechooser\n",
      "  Downloading ipyfilechooser-0.6.0-py3-none-any.whl (11 kB)\n",
      "Requirement already satisfied: ipywidgets in /workspace/venv/lib/python3.10/site-packages (from ipyfilechooser) (8.1.0)\n",
      "Requirement already satisfied: traitlets>=4.3.1 in /workspace/venv/lib/python3.10/site-packages (from ipywidgets->ipyfilechooser) (5.9.0)\n",
      "Requirement already satisfied: ipython>=6.1.0 in /workspace/venv/lib/python3.10/site-packages (from ipywidgets->ipyfilechooser) (8.14.0)\n",
      "Requirement already satisfied: comm>=0.1.3 in /workspace/venv/lib/python3.10/site-packages (from ipywidgets->ipyfilechooser) (0.1.4)\n",
      "Requirement already satisfied: jupyterlab-widgets~=3.0.7 in /workspace/venv/lib/python3.10/site-packages (from ipywidgets->ipyfilechooser) (3.0.8)\n",
      "Requirement already satisfied: widgetsnbextension~=4.0.7 in /workspace/venv/lib/python3.10/site-packages (from ipywidgets->ipyfilechooser) (4.0.8)\n",
      "Requirement already satisfied: pygments>=2.4.0 in /workspace/venv/lib/python3.10/site-packages (from ipython>=6.1.0->ipywidgets->ipyfilechooser) (2.16.1)\n",
      "Requirement already satisfied: decorator in /workspace/venv/lib/python3.10/site-packages (from ipython>=6.1.0->ipywidgets->ipyfilechooser) (5.1.1)\n",
      "Requirement already satisfied: pexpect>4.3 in /workspace/venv/lib/python3.10/site-packages (from ipython>=6.1.0->ipywidgets->ipyfilechooser) (4.8.0)\n",
      "Requirement already satisfied: matplotlib-inline in /workspace/venv/lib/python3.10/site-packages (from ipython>=6.1.0->ipywidgets->ipyfilechooser) (0.1.6)\n",
      "Requirement already satisfied: jedi>=0.16 in /workspace/venv/lib/python3.10/site-packages (from ipython>=6.1.0->ipywidgets->ipyfilechooser) (0.19.0)\n",
      "Requirement already satisfied: backcall in /workspace/venv/lib/python3.10/site-packages (from ipython>=6.1.0->ipywidgets->ipyfilechooser) (0.2.0)\n",
      "Requirement already satisfied: prompt-toolkit!=3.0.37,<3.1.0,>=3.0.30 in /workspace/venv/lib/python3.10/site-packages (from ipython>=6.1.0->ipywidgets->ipyfilechooser) (3.0.39)\n",
      "Requirement already satisfied: pickleshare in /workspace/venv/lib/python3.10/site-packages (from ipython>=6.1.0->ipywidgets->ipyfilechooser) (0.7.5)\n",
      "Requirement already satisfied: stack-data in /workspace/venv/lib/python3.10/site-packages (from ipython>=6.1.0->ipywidgets->ipyfilechooser) (0.6.2)\n",
      "Requirement already satisfied: parso<0.9.0,>=0.8.3 in /workspace/venv/lib/python3.10/site-packages (from jedi>=0.16->ipython>=6.1.0->ipywidgets->ipyfilechooser) (0.8.3)\n",
      "Requirement already satisfied: ptyprocess>=0.5 in /workspace/venv/lib/python3.10/site-packages (from pexpect>4.3->ipython>=6.1.0->ipywidgets->ipyfilechooser) (0.7.0)\n",
      "Requirement already satisfied: wcwidth in /workspace/venv/lib/python3.10/site-packages (from prompt-toolkit!=3.0.37,<3.1.0,>=3.0.30->ipython>=6.1.0->ipywidgets->ipyfilechooser) (0.2.6)\n",
      "Requirement already satisfied: asttokens>=2.1.0 in /workspace/venv/lib/python3.10/site-packages (from stack-data->ipython>=6.1.0->ipywidgets->ipyfilechooser) (2.2.1)\n",
      "Requirement already satisfied: pure-eval in /workspace/venv/lib/python3.10/site-packages (from stack-data->ipython>=6.1.0->ipywidgets->ipyfilechooser) (0.2.2)\n",
      "Requirement already satisfied: executing>=1.2.0 in /workspace/venv/lib/python3.10/site-packages (from stack-data->ipython>=6.1.0->ipywidgets->ipyfilechooser) (1.2.0)\n",
      "Requirement already satisfied: six in /workspace/venv/lib/python3.10/site-packages (from asttokens>=2.1.0->stack-data->ipython>=6.1.0->ipywidgets->ipyfilechooser) (1.16.0)\n",
      "Installing collected packages: ipyfilechooser\n",
      "Successfully installed ipyfilechooser-0.6.0\n"
     ]
    }
   ],
   "source": [
    "!pip install ipyfilechooser\n"
   ]
  },
  {
   "cell_type": "code",
   "execution_count": 17,
   "id": "af8d531a-ed26-4fb6-a784-d2a744c83649",
   "metadata": {},
   "outputs": [
    {
     "data": {
      "application/vnd.jupyter.widget-view+json": {
       "model_id": "08d24c589c1f47b09d8743029468e197",
       "version_major": 2,
       "version_minor": 0
      },
      "text/plain": [
       "FileChooser(path='/workspace/stable-diffusion-webui/models/Stable-diffusion', filename='', title='<b>Choose Mo…"
      ]
     },
     "metadata": {},
     "output_type": "display_data"
    },
    {
     "data": {
      "application/vnd.jupyter.widget-view+json": {
       "model_id": "ae1d0af550234e50a80f4894fe8b286e",
       "version_major": 2,
       "version_minor": 0
      },
      "text/plain": [
       "FileChooser(path='/workspace/stable-diffusion-webui/models/Stable-diffusion', filename='', title='<b>Choose Sa…"
      ]
     },
     "metadata": {},
     "output_type": "display_data"
    },
    {
     "data": {
      "application/vnd.jupyter.widget-view+json": {
       "model_id": "adc37026c5f74e9290950006669a579a",
       "version_major": 2,
       "version_minor": 0
      },
      "text/plain": [
       "Button(description='Convert', style=ButtonStyle())"
      ]
     },
     "metadata": {},
     "output_type": "display_data"
    },
    {
     "data": {
      "application/vnd.jupyter.widget-view+json": {
       "model_id": "ff2a4c85523b4d7994a037fae7eb66ad",
       "version_major": 2,
       "version_minor": 0
      },
      "text/plain": [
       "Output()"
      ]
     },
     "metadata": {},
     "output_type": "display_data"
    }
   ],
   "source": [
    "from safetensors import safe_open\n",
    "from safetensors.torch import save_file, load_file\n",
    "import os\n",
    "import ipywidgets as widgets\n",
    "from ipyfilechooser import FileChooser\n",
    "from IPython.display import display\n",
    "\n",
    "def fix_diffusers_model_conversion(load_path: str, save_path: str):\n",
    "    try:\n",
    "        # Load original model\n",
    "        with safe_open(str(load_path), framework=\"pt\") as f:\n",
    "            tensors = load_file(f)\n",
    "\n",
    "        # Migrate tensors\n",
    "        new_tensors = {}\n",
    "        for k, v in tensors.items():\n",
    "            new_key = k\n",
    "            # Only fix the vae\n",
    "            if 'first_stage_model.' in k:\n",
    "                # Migrate q, k, v keys\n",
    "                new_key = new_key.replace('.to_q.weight', '.q.weight')\n",
    "                new_key = new_key.replace('.to_q.bias', '.q.bias')\n",
    "                new_key = new_key.replace('.to_k.weight', '.k.weight')\n",
    "                new_key = new_key.replace('.to_k.bias', '.k.bias')\n",
    "                new_key = new_key.replace('.to_v.weight', '.v.weight')\n",
    "                new_key = new_key.replace('.to_v.bias', '.v.bias')\n",
    "            new_tensors[new_key] = v\n",
    "\n",
    "        # Save the migrated model\n",
    "        with safe_open(str(save_path), framework=\"pt\") as f:\n",
    "            save_file(new_tensors, f)\n",
    "            print(f\"Model saved to: {save_path}\")\n",
    "    except Exception as e:\n",
    "        print(f\"Error occurred: {e}\")\n",
    "\n",
    "# Function to handle the conversion when the button is clicked\n",
    "def handle_conversion(button):\n",
    "    load_path = file_chooser.selected\n",
    "    save_path = save_dir_chooser.selected\n",
    "    if load_path and save_path:\n",
    "        fix_diffusers_model_conversion(load_path, save_path)\n",
    "    else:\n",
    "        print(\"Please select both a model file and a save directory.\")\n",
    "\n",
    "# Create file selection widgets\n",
    "file_chooser = FileChooser(os.getcwd())\n",
    "file_chooser.title = '<b>Choose Model File</b>'\n",
    "save_dir_chooser = FileChooser(os.getcwd())\n",
    "save_dir_chooser.title = '<b>Choose Save Directory and File Name</b>'\n",
    "save_dir_chooser.show_only_dirs = False\n",
    "convert_button = widgets.Button(description=\"Convert\")\n",
    "output = widgets.Output()\n",
    "\n",
    "# Register button click event\n",
    "convert_button.on_click(handle_conversion)\n",
    "\n",
    "# Display widgets\n",
    "display(file_chooser, save_dir_chooser, convert_button, output)\n"
   ]
  },
  {
   "cell_type": "code",
   "execution_count": null,
   "id": "da25730a-f5d8-4786-965f-653daedf8b37",
   "metadata": {},
   "outputs": [],
   "source": []
  }
 ],
 "metadata": {
  "kernelspec": {
   "display_name": "Python 3 (ipykernel)",
   "language": "python",
   "name": "python3"
  },
  "language_info": {
   "codemirror_mode": {
    "name": "ipython",
    "version": 3
   },
   "file_extension": ".py",
   "mimetype": "text/x-python",
   "name": "python",
   "nbconvert_exporter": "python",
   "pygments_lexer": "ipython3",
   "version": "3.10.12"
  }
 },
 "nbformat": 4,
 "nbformat_minor": 5
}
